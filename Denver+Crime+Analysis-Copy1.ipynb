{
 "cells": [
  {
   "cell_type": "code",
   "execution_count": 1,
   "metadata": {
    "collapsed": false
   },
   "outputs": [],
   "source": [
    "import sqlmagic"
   ]
  },
  {
   "cell_type": "code",
   "execution_count": 8,
   "metadata": {
    "collapsed": false
   },
   "outputs": [
    {
     "name": "stdout",
     "output_type": "stream",
     "text": [
      "(psycopg2.ProgrammingError) relation \"dispensaries\" already exists\n",
      " [SQL: 'create table Dispensaries(Licensee varchar(255), DBA varchar(255), License_No varchar(255), Street_Address varchar(255), City varchar(50), Zip varchar(5))']\n"
     ]
    }
   ],
   "source": [
    "#Create empty table for Dispensaries data\n",
    "%sql create table Dispensaries(Licensee varchar(255), DBA varchar(255), License_No varchar(255), Street_Address varchar(255), City varchar(50), Zip varchar(5))  "
   ]
  },
  {
   "cell_type": "code",
   "execution_count": 9,
   "metadata": {
    "collapsed": false
   },
   "outputs": [],
   "source": [
    "# Import Panda to read CSV files\n",
    "import pandas as pd"
   ]
  },
  {
   "cell_type": "code",
   "execution_count": 10,
   "metadata": {
    "collapsed": false
   },
   "outputs": [
    {
     "name": "stdout",
     "output_type": "stream",
     "text": [
      "0 rows affected.\n"
     ]
    },
    {
     "data": {
      "text/html": [
       "<table>\n",
       "    <tr>\n",
       "        <th>licensee</th>\n",
       "        <th>dba</th>\n",
       "        <th>license_no</th>\n",
       "        <th>street_address</th>\n",
       "        <th>city</th>\n",
       "        <th>zip</th>\n",
       "    </tr>\n",
       "</table>"
      ],
      "text/plain": [
       "[]"
      ]
     },
     "execution_count": 10,
     "metadata": {},
     "output_type": "execute_result"
    }
   ],
   "source": [
    "#View column names for Dispensary data table\n",
    "%sql select * from Dispensaries"
   ]
  },
  {
   "cell_type": "code",
   "execution_count": 11,
   "metadata": {
    "collapsed": false
   },
   "outputs": [],
   "source": [
    "# Import csv in order to work with our files\n",
    "import csv"
   ]
  },
  {
   "cell_type": "code",
   "execution_count": 12,
   "metadata": {
    "collapsed": false
   },
   "outputs": [
    {
     "ename": "IOError",
     "evalue": "File stores.csv does not exist",
     "output_type": "error",
     "traceback": [
      "\u001b[0;31m---------------------------------------------------------------------------\u001b[0m",
      "\u001b[0;31mIOError\u001b[0m                                   Traceback (most recent call last)",
      "\u001b[0;32m/usr/lib/python2.7/sqlmagic.py\u001b[0m in \u001b[0;36m<module>\u001b[0;34m()\u001b[0m\n\u001b[1;32m      1\u001b[0m \u001b[0;31m# Upload Licensed Retailer stores data file into the empty Dispensaries table\u001b[0m\u001b[0;34m\u001b[0m\u001b[0;34m\u001b[0m\u001b[0m\n\u001b[0;32m----> 2\u001b[0;31m \u001b[0mstoresfile\u001b[0m \u001b[0;34m=\u001b[0m \u001b[0mpd\u001b[0m\u001b[0;34m.\u001b[0m\u001b[0mread_csv\u001b[0m\u001b[0;34m(\u001b[0m\u001b[0;34m'stores.csv'\u001b[0m\u001b[0;34m)\u001b[0m\u001b[0;34m\u001b[0m\u001b[0m\n\u001b[0m\u001b[1;32m      3\u001b[0m \u001b[0mstoresfile\u001b[0m\u001b[0;34m.\u001b[0m\u001b[0mto_sql\u001b[0m\u001b[0;34m(\u001b[0m\u001b[0;34m'Dispensaries'\u001b[0m\u001b[0;34m,\u001b[0m \u001b[0mconn\u001b[0m\u001b[0;34m,\u001b[0m \u001b[0mif_exists\u001b[0m\u001b[0;34m=\u001b[0m\u001b[0;34m'append'\u001b[0m\u001b[0;34m,\u001b[0m \u001b[0mindex\u001b[0m\u001b[0;34m=\u001b[0m\u001b[0mFalse\u001b[0m\u001b[0;34m)\u001b[0m\u001b[0;34m\u001b[0m\u001b[0m\n\u001b[1;32m      4\u001b[0m \u001b[0;32mprint\u001b[0m \u001b[0;34m(\u001b[0m\u001b[0mstoresfile\u001b[0m\u001b[0;34m)\u001b[0m\u001b[0;34m\u001b[0m\u001b[0m\n",
      "\u001b[0;32m/usr/local/lib/python2.7/dist-packages/pandas/io/parsers.pyc\u001b[0m in \u001b[0;36mparser_f\u001b[0;34m(filepath_or_buffer, sep, delimiter, header, names, index_col, usecols, squeeze, prefix, mangle_dupe_cols, dtype, engine, converters, true_values, false_values, skipinitialspace, skiprows, nrows, na_values, keep_default_na, na_filter, verbose, skip_blank_lines, parse_dates, infer_datetime_format, keep_date_col, date_parser, dayfirst, iterator, chunksize, compression, thousands, decimal, lineterminator, quotechar, quoting, escapechar, comment, encoding, dialect, tupleize_cols, error_bad_lines, warn_bad_lines, skipfooter, skip_footer, doublequote, delim_whitespace, as_recarray, compact_ints, use_unsigned, low_memory, buffer_lines, memory_map, float_precision)\u001b[0m\n\u001b[1;32m    643\u001b[0m                     skip_blank_lines=skip_blank_lines)\n\u001b[1;32m    644\u001b[0m \u001b[0;34m\u001b[0m\u001b[0m\n\u001b[0;32m--> 645\u001b[0;31m         \u001b[0;32mreturn\u001b[0m \u001b[0m_read\u001b[0m\u001b[0;34m(\u001b[0m\u001b[0mfilepath_or_buffer\u001b[0m\u001b[0;34m,\u001b[0m \u001b[0mkwds\u001b[0m\u001b[0;34m)\u001b[0m\u001b[0;34m\u001b[0m\u001b[0m\n\u001b[0m\u001b[1;32m    646\u001b[0m \u001b[0;34m\u001b[0m\u001b[0m\n\u001b[1;32m    647\u001b[0m     \u001b[0mparser_f\u001b[0m\u001b[0;34m.\u001b[0m\u001b[0m__name__\u001b[0m \u001b[0;34m=\u001b[0m \u001b[0mname\u001b[0m\u001b[0;34m\u001b[0m\u001b[0m\n",
      "\u001b[0;32m/usr/local/lib/python2.7/dist-packages/pandas/io/parsers.pyc\u001b[0m in \u001b[0;36m_read\u001b[0;34m(filepath_or_buffer, kwds)\u001b[0m\n\u001b[1;32m    386\u001b[0m \u001b[0;34m\u001b[0m\u001b[0m\n\u001b[1;32m    387\u001b[0m     \u001b[0;31m# Create the parser.\u001b[0m\u001b[0;34m\u001b[0m\u001b[0;34m\u001b[0m\u001b[0m\n\u001b[0;32m--> 388\u001b[0;31m     \u001b[0mparser\u001b[0m \u001b[0;34m=\u001b[0m \u001b[0mTextFileReader\u001b[0m\u001b[0;34m(\u001b[0m\u001b[0mfilepath_or_buffer\u001b[0m\u001b[0;34m,\u001b[0m \u001b[0;34m**\u001b[0m\u001b[0mkwds\u001b[0m\u001b[0;34m)\u001b[0m\u001b[0;34m\u001b[0m\u001b[0m\n\u001b[0m\u001b[1;32m    389\u001b[0m \u001b[0;34m\u001b[0m\u001b[0m\n\u001b[1;32m    390\u001b[0m     \u001b[0;32mif\u001b[0m \u001b[0;34m(\u001b[0m\u001b[0mnrows\u001b[0m \u001b[0;32mis\u001b[0m \u001b[0;32mnot\u001b[0m \u001b[0mNone\u001b[0m\u001b[0;34m)\u001b[0m \u001b[0;32mand\u001b[0m \u001b[0;34m(\u001b[0m\u001b[0mchunksize\u001b[0m \u001b[0;32mis\u001b[0m \u001b[0;32mnot\u001b[0m \u001b[0mNone\u001b[0m\u001b[0;34m)\u001b[0m\u001b[0;34m:\u001b[0m\u001b[0;34m\u001b[0m\u001b[0m\n",
      "\u001b[0;32m/usr/local/lib/python2.7/dist-packages/pandas/io/parsers.pyc\u001b[0m in \u001b[0;36m__init__\u001b[0;34m(self, f, engine, **kwds)\u001b[0m\n\u001b[1;32m    727\u001b[0m             \u001b[0mself\u001b[0m\u001b[0;34m.\u001b[0m\u001b[0moptions\u001b[0m\u001b[0;34m[\u001b[0m\u001b[0;34m'has_index_names'\u001b[0m\u001b[0;34m]\u001b[0m \u001b[0;34m=\u001b[0m \u001b[0mkwds\u001b[0m\u001b[0;34m[\u001b[0m\u001b[0;34m'has_index_names'\u001b[0m\u001b[0;34m]\u001b[0m\u001b[0;34m\u001b[0m\u001b[0m\n\u001b[1;32m    728\u001b[0m \u001b[0;34m\u001b[0m\u001b[0m\n\u001b[0;32m--> 729\u001b[0;31m         \u001b[0mself\u001b[0m\u001b[0;34m.\u001b[0m\u001b[0m_make_engine\u001b[0m\u001b[0;34m(\u001b[0m\u001b[0mself\u001b[0m\u001b[0;34m.\u001b[0m\u001b[0mengine\u001b[0m\u001b[0;34m)\u001b[0m\u001b[0;34m\u001b[0m\u001b[0m\n\u001b[0m\u001b[1;32m    730\u001b[0m \u001b[0;34m\u001b[0m\u001b[0m\n\u001b[1;32m    731\u001b[0m     \u001b[0;32mdef\u001b[0m \u001b[0mclose\u001b[0m\u001b[0;34m(\u001b[0m\u001b[0mself\u001b[0m\u001b[0;34m)\u001b[0m\u001b[0;34m:\u001b[0m\u001b[0;34m\u001b[0m\u001b[0m\n",
      "\u001b[0;32m/usr/local/lib/python2.7/dist-packages/pandas/io/parsers.pyc\u001b[0m in \u001b[0;36m_make_engine\u001b[0;34m(self, engine)\u001b[0m\n\u001b[1;32m    920\u001b[0m     \u001b[0;32mdef\u001b[0m \u001b[0m_make_engine\u001b[0m\u001b[0;34m(\u001b[0m\u001b[0mself\u001b[0m\u001b[0;34m,\u001b[0m \u001b[0mengine\u001b[0m\u001b[0;34m=\u001b[0m\u001b[0;34m'c'\u001b[0m\u001b[0;34m)\u001b[0m\u001b[0;34m:\u001b[0m\u001b[0;34m\u001b[0m\u001b[0m\n\u001b[1;32m    921\u001b[0m         \u001b[0;32mif\u001b[0m \u001b[0mengine\u001b[0m \u001b[0;34m==\u001b[0m \u001b[0;34m'c'\u001b[0m\u001b[0;34m:\u001b[0m\u001b[0;34m\u001b[0m\u001b[0m\n\u001b[0;32m--> 922\u001b[0;31m             \u001b[0mself\u001b[0m\u001b[0;34m.\u001b[0m\u001b[0m_engine\u001b[0m \u001b[0;34m=\u001b[0m \u001b[0mCParserWrapper\u001b[0m\u001b[0;34m(\u001b[0m\u001b[0mself\u001b[0m\u001b[0;34m.\u001b[0m\u001b[0mf\u001b[0m\u001b[0;34m,\u001b[0m \u001b[0;34m**\u001b[0m\u001b[0mself\u001b[0m\u001b[0;34m.\u001b[0m\u001b[0moptions\u001b[0m\u001b[0;34m)\u001b[0m\u001b[0;34m\u001b[0m\u001b[0m\n\u001b[0m\u001b[1;32m    923\u001b[0m         \u001b[0;32melse\u001b[0m\u001b[0;34m:\u001b[0m\u001b[0;34m\u001b[0m\u001b[0m\n\u001b[1;32m    924\u001b[0m             \u001b[0;32mif\u001b[0m \u001b[0mengine\u001b[0m \u001b[0;34m==\u001b[0m \u001b[0;34m'python'\u001b[0m\u001b[0;34m:\u001b[0m\u001b[0;34m\u001b[0m\u001b[0m\n",
      "\u001b[0;32m/usr/local/lib/python2.7/dist-packages/pandas/io/parsers.pyc\u001b[0m in \u001b[0;36m__init__\u001b[0;34m(self, src, **kwds)\u001b[0m\n\u001b[1;32m   1387\u001b[0m         \u001b[0mkwds\u001b[0m\u001b[0;34m[\u001b[0m\u001b[0;34m'allow_leading_cols'\u001b[0m\u001b[0;34m]\u001b[0m \u001b[0;34m=\u001b[0m \u001b[0mself\u001b[0m\u001b[0;34m.\u001b[0m\u001b[0mindex_col\u001b[0m \u001b[0;32mis\u001b[0m \u001b[0;32mnot\u001b[0m \u001b[0mFalse\u001b[0m\u001b[0;34m\u001b[0m\u001b[0m\n\u001b[1;32m   1388\u001b[0m \u001b[0;34m\u001b[0m\u001b[0m\n\u001b[0;32m-> 1389\u001b[0;31m         \u001b[0mself\u001b[0m\u001b[0;34m.\u001b[0m\u001b[0m_reader\u001b[0m \u001b[0;34m=\u001b[0m \u001b[0m_parser\u001b[0m\u001b[0;34m.\u001b[0m\u001b[0mTextReader\u001b[0m\u001b[0;34m(\u001b[0m\u001b[0msrc\u001b[0m\u001b[0;34m,\u001b[0m \u001b[0;34m**\u001b[0m\u001b[0mkwds\u001b[0m\u001b[0;34m)\u001b[0m\u001b[0;34m\u001b[0m\u001b[0m\n\u001b[0m\u001b[1;32m   1390\u001b[0m \u001b[0;34m\u001b[0m\u001b[0m\n\u001b[1;32m   1391\u001b[0m         \u001b[0;31m# XXX\u001b[0m\u001b[0;34m\u001b[0m\u001b[0;34m\u001b[0m\u001b[0m\n",
      "\u001b[0;32mpandas/parser.pyx\u001b[0m in \u001b[0;36mpandas.parser.TextReader.__cinit__ (pandas/parser.c:4019)\u001b[0;34m()\u001b[0m\n",
      "\u001b[0;32mpandas/parser.pyx\u001b[0m in \u001b[0;36mpandas.parser.TextReader._setup_parser_source (pandas/parser.c:7967)\u001b[0;34m()\u001b[0m\n",
      "\u001b[0;31mIOError\u001b[0m: File stores.csv does not exist"
     ]
    }
   ],
   "source": [
    "# Upload Licensed Retailer stores data file into the empty Dispensaries table\n",
    "storesfile = pd.read_csv('stores.csv')\n",
    "storesfile.to_sql('Dispensaries', conn, if_exists='append', index=False)\n",
    "print (storesfile)"
   ]
  },
  {
   "cell_type": "code",
   "execution_count": 161,
   "metadata": {
    "collapsed": false
   },
   "outputs": [],
   "source": [
    "# Rename\n",
    "retailers = storesfile"
   ]
  },
  {
   "cell_type": "code",
   "execution_count": 164,
   "metadata": {
    "collapsed": false
   },
   "outputs": [
    {
     "name": "stdout",
     "output_type": "stream",
     "text": [
      "Done.\n"
     ]
    },
    {
     "data": {
      "text/plain": [
       "[]"
      ]
     },
     "execution_count": 164,
     "metadata": {},
     "output_type": "execute_result"
    }
   ],
   "source": [
    "#Create an empty table for liquor license data\n",
    "%sql create table liquorlicenses(key int(1845)bfn varchar(50), bus_prof_name varchar(255), full_address varchar(255), licenses varchar(100), lic_status varchar(50), address_id varchar(255), address varchar(100), city varchar(20), state varchar(2), council_dist int(50), police_dist int(10), census_tract int(255), x_coord int(255), y_coord int(255))      "
   ]
  },
  {
   "cell_type": "code",
   "execution_count": 203,
   "metadata": {
    "collapsed": false
   },
   "outputs": [
    {
     "name": "stdout",
     "output_type": "stream",
     "text": [
      "                   BFN                               BUS_PROF_NAME  \\\n",
      "0     2015-BFN-0001481                  SALATI ITALIAN STREET FOOD   \n",
      "1       2002-BFN-96418                          QDOBA MEXICAN EATS   \n",
      "2       2002-BFN-71982                        SALTGRASS STEAKHOUSE   \n",
      "3     2010-BFN-1046889          OLD SANTA FE MEXICAN GRILL AND BAR   \n",
      "4     2003-BFN-1006129          THE CAPITAL GRILLE OF DENVER #8018   \n",
      "5     2014-BFN-1074764                            GQ BARBER LOUNGE   \n",
      "6     2014-BFN-1072164                                FORK & SPOON   \n",
      "7        2002-BFN-7325                                   MARLOWE'S   \n",
      "8     2004-BFN-1009954                             WILLIAMS TAVERN   \n",
      "9     2011-BFN-1052735                             TACOS BORRACHOS   \n",
      "10      2002-BFN-57473                               STARBUCKS 270   \n",
      "11    2015-BFN-0006320                               SPARK GALLERY   \n",
      "12    2007-BFN-1027328    BUBBA GUMP SHRIMP CO RESTAURANT & MARKET   \n",
      "13    2012-BFN-1062933                  YU HONG CHINESE RESTAURANT   \n",
      "14    2012-BFN-1063681                                THE WHITTIER   \n",
      "15    2015-BFN-0002739                             RT CAFE AND BAR   \n",
      "16    2009-BFN-1043840                        BROTHERS BAR & GRILL   \n",
      "17    2006-BFN-1020932                             VITA RESTAURANT   \n",
      "18    2008-BFN-1031230                      MR. B'S WINE & SPIRITS   \n",
      "19      2002-BFN-77487                                    SWANKY'S   \n",
      "20    2005-BFN-1013106                             DIAMOND CABARET   \n",
      "21    2008-BFN-1037945                               LOHI STEAKBAR   \n",
      "22    2014-BFN-1072200               MERCANTILE DINING & PROVISION   \n",
      "23    2011-BFN-1053279                                   CAFE PURE   \n",
      "24       2001-BFN-4873                           KING SOOOPERS #29   \n",
      "25    2004-BFN-1007616                                  PARK HOUSE   \n",
      "26    2009-BFN-1039598                  VINCENT CONVENIENCE MARKET   \n",
      "27    2004-BFN-1012710                            CLIFFORD BAUTSCH   \n",
      "28    2006-BFN-1023906                     TOAST! WINE AND SPIRITS   \n",
      "29    2009-BFN-1038755  FAMOUS PHILLY CHEESE STEAK AND BEER GARDEN   \n",
      "...                ...                                         ...   \n",
      "1816  2014-BFN-1072143                        WALMART MARKET #3048   \n",
      "1817  2012-BFN-1060990                         MADDIE'S RESTAURANT   \n",
      "1818     2001-BFN-3855              THE WINE SELLER & SPIRITS TOO!   \n",
      "1819      2001-BFN-128                       SAFEWAY STORE NO 1038   \n",
      "1820  2011-BFN-1052842                              BOTTLE SHOP 33   \n",
      "1821    2002-BFN-49662                            PETE'S CENTRAL I   \n",
      "1822  2012-BFN-1063694                           SMASHBURGER #1261   \n",
      "1823  2003-BFN-1006732                      CHIPOTLE MEXICAN GRILL   \n",
      "1824  2007-BFN-1025226                       NORDSTROM CAFE BISTRO   \n",
      "1825  2004-BFN-1010472                          ELWAY'S RESTAURANT   \n",
      "1826    2002-BFN-55709                       D U CONOCO FOOD STORE   \n",
      "1827  2014-BFN-1074060                        JIM N NICK'S BAR-B-Q   \n",
      "1828  2015-BFN-0002983                            CITY BAKERY CAFE   \n",
      "1829    2001-BFN-46839                                 VILLAGE INN   \n",
      "1830  2004-BFN-1010824                      THE FRESH FISH COMPANY   \n",
      "1831  2011-BFN-1055440                               R&D WINE SHOP   \n",
      "1832  2003-BFN-1004588                          TUK TUK THAI GRILL   \n",
      "1833  2004-BFN-1012429              COLUMBINE STEAK HOUSE & LOUNGE   \n",
      "1834    2002-BFN-39663                              SAIGON TERRACE   \n",
      "1835  2009-BFN-1043554                         HARVEY PARK LIQUORS   \n",
      "1836     2001-BFN-4012                                 STADIUM INN   \n",
      "1837  2012-BFN-1063561                     BROOKDALE MOUNTAIN VIEW   \n",
      "1838  2010-BFN-1049650                                 GAIA BISTRO   \n",
      "1839  2004-BFN-1010636                        HARMAN'S EAT & DRINK   \n",
      "1840    2002-BFN-60748                               ROME'S SALOON   \n",
      "1841    2002-BFN-89824               EL NOA NOA MEXICAN RESTAURANT   \n",
      "1842  2010-BFN-1047439                           SWIFT ON BROADWAY   \n",
      "1843  2007-BFN-1029182                       BRUNOS ITALIAN BISTRO   \n",
      "1844  2008-BFN-1037372                         ALAMEDA LIQUOR MART   \n",
      "1845  2015-BFN-0001425                                 NOVO COFFEE   \n",
      "\n",
      "                          FULL_ADDRESS  \\\n",
      "0       8270 NORTHFIELD BLVDUNIT 1485    \n",
      "1           4955 S ULSTER ST UNIT 102    \n",
      "2                     1580 LAWRENCE ST   \n",
      "3                        12 E 11TH AVE   \n",
      "4                      1450 LARIMER ST   \n",
      "5                         1605 17TH ST   \n",
      "6                     341 E COLFAX AVE   \n",
      "7                          501 16TH ST   \n",
      "8                       423 E 17TH AVE   \n",
      "9                         1514 YORK ST   \n",
      "10                     801 N COLORADO    \n",
      "11                   900 N SANTA FE DR   \n",
      "12                  1437 CALIFORNIA ST   \n",
      "13                   6901 E COLFAX AVE   \n",
      "14                     2000 E 28TH AVE   \n",
      "15                        988 LINCOLN    \n",
      "16                      1920 MARKET ST   \n",
      "17             1575 BOULDER STSUITE A    \n",
      "18              2101 MARKET STSUITE A    \n",
      "19                       1938 BLAKE ST   \n",
      "20                     1222 GLENARM PL   \n",
      "21                       3200 TEJON ST   \n",
      "22           1701 WYNKOOP STSUITE 155    \n",
      "23                        1380 17TH ST   \n",
      "24                      1155 E 9TH AVE   \n",
      "25                     1515 MADISON ST   \n",
      "26                   1906 E COLFAX AVE   \n",
      "27                     3934 W 32ND AVE   \n",
      "28                     3828 W 23RD AVE   \n",
      "29                      2200 ONEIDA ST   \n",
      "...                                ...   \n",
      "1816              3125 S SHERIDAN BLVD   \n",
      "1817                 2423 S DOWNING ST   \n",
      "1818                     600 E 6TH AVE   \n",
      "1819              1653 S COLORADO BLVD   \n",
      "1820                 1080 S GAYLORD ST   \n",
      "1821                    300 S PEARL ST   \n",
      "1822     8100 W CRESTLINE AVE UNIT A2    \n",
      "1823  820 S MONACO STREET PKWYUNIT 1B    \n",
      "1824                    2810 E 1ST AVE   \n",
      "1825              2500 E 1ST AVE B101    \n",
      "1826            2001 S UNIVERSITY BLVD   \n",
      "1827                6325 E HAMPDEN AVE   \n",
      "1828                      726 LINCOLN    \n",
      "1829             4100 E MEXICO UNIT F    \n",
      "1830                7800 E HAMPDEN AVE   \n",
      "1831                 1080 S GAYLORD ST   \n",
      "1832                 8000 E QUINCY AVE   \n",
      "1833                300 N FEDERAL BLVD   \n",
      "1834         1550 S COLORADO BLVD 106    \n",
      "1835               2418 S FEDERAL BLVD   \n",
      "1836                  1703 E EVANS AVE   \n",
      "1837            8101 E MISSISSIPPI AVE   \n",
      "1838                   1551 S PEARL ST   \n",
      "1839                    2900 E 2ND AVE   \n",
      "1840             785 W MISSISSIPPI AVE   \n",
      "1841                   722 SANTA FE DR   \n",
      "1842                     8 S BROADWAY    \n",
      "1843        2223 S MONACO PKWYUNIT E7    \n",
      "1844          9660 E ALAMEDA AVE #103    \n",
      "1845                       1700 E 6TH    \n",
      "\n",
      "                                               LICENSES  \\\n",
      "0                         LIQUOR - HOTEL AND RESTAURANT   \n",
      "1                         LIQUOR - HOTEL AND RESTAURANT   \n",
      "2                         LIQUOR - HOTEL AND RESTAURANT   \n",
      "3                           LIQUOR - TAVERN AND CABARET   \n",
      "4                         LIQUOR - HOTEL AND RESTAURANT   \n",
      "5                                       LIQUOR - TAVERN   \n",
      "6                         LIQUOR - HOTEL AND RESTAURANT   \n",
      "7             LIQUOR - HOTEL AND RESTAURANT AND CABARET   \n",
      "8                                       LIQUOR - TAVERN   \n",
      "9                         LIQUOR - HOTEL AND RESTAURANT   \n",
      "10                                 LIQUOR - BEER & WINE   \n",
      "11                          LIQUOR - ART GALLERY PERMIT   \n",
      "12            LIQUOR - HOTEL AND RESTAURANT AND CABARET   \n",
      "13                        LIQUOR - HOTEL AND RESTAURANT   \n",
      "14                        LIQUOR - HOTEL AND RESTAURANT   \n",
      "15                        LIQUOR - HOTEL AND RESTAURANT   \n",
      "16            LIQUOR - HOTEL AND RESTAURANT AND CABARET   \n",
      "17            LIQUOR - HOTEL AND RESTAURANT AND CABARET   \n",
      "18                                       LIQUOR - STORE   \n",
      "19                                      LIQUOR - TAVERN   \n",
      "20                          LIQUOR - TAVERN AND CABARET   \n",
      "21                        LIQUOR - HOTEL AND RESTAURANT   \n",
      "22                        LIQUOR - HOTEL AND RESTAURANT   \n",
      "23                                 LIQUOR - BEER & WINE   \n",
      "24                                   LIQUOR - 3.2% BEER   \n",
      "25            LIQUOR - HOTEL AND RESTAURANT AND CABARET   \n",
      "26                                   LIQUOR - 3.2% BEER   \n",
      "27            LIQUOR - HOTEL AND RESTAURANT AND CABARET   \n",
      "28                                       LIQUOR - STORE   \n",
      "29                        LIQUOR - HOTEL AND RESTAURANT   \n",
      "...                                                 ...   \n",
      "1816                                 LIQUOR - 3.2% BEER   \n",
      "1817                      LIQUOR - HOTEL AND RESTAURANT   \n",
      "1818                                     LIQUOR - STORE   \n",
      "1819                                 LIQUOR - 3.2% BEER   \n",
      "1820                                    LIQUOR - RETAIL   \n",
      "1821                      LIQUOR - HOTEL AND RESTAURANT   \n",
      "1822                               LIQUOR - BEER & WINE   \n",
      "1823                      LIQUOR - HOTEL AND RESTAURANT   \n",
      "1824                               LIQUOR - BEER & WINE   \n",
      "1825          LIQUOR - HOTEL AND RESTAURANT AND CABARET   \n",
      "1826                                 LIQUOR - 3.2% BEER   \n",
      "1827                      LIQUOR - HOTEL AND RESTAURANT   \n",
      "1828                               LIQUOR - BEER & WINE   \n",
      "1829                      LIQUOR - HOTEL AND RESTAURANT   \n",
      "1830          LIQUOR - HOTEL AND RESTAURANT AND CABARET   \n",
      "1831                                  LIQUOR - TASTINGS   \n",
      "1832                      LIQUOR - HOTEL AND RESTAURANT   \n",
      "1833                      LIQUOR - HOTEL AND RESTAURANT   \n",
      "1834                      LIQUOR - HOTEL AND RESTAURANT   \n",
      "1835                                     LIQUOR - STORE   \n",
      "1836                                    LIQUOR - TAVERN   \n",
      "1837  LIQUOR - HOTEL AND RESTAURANT WITH OPTIONAL PR...   \n",
      "1838                      LIQUOR - HOTEL AND RESTAURANT   \n",
      "1839                      LIQUOR - HOTEL AND RESTAURANT   \n",
      "1840                      LIQUOR - HOTEL AND RESTAURANT   \n",
      "1841          LIQUOR - HOTEL AND RESTAURANT AND CABARET   \n",
      "1842                      LIQUOR - HOTEL AND RESTAURANT   \n",
      "1843                      LIQUOR - HOTEL AND RESTAURANT   \n",
      "1844                                     LIQUOR - STORE   \n",
      "1845                                    LIQUOR - TAVERN   \n",
      "\n",
      "                   LIC_STATUS  ADDRESS_ID                            ADDRESS  \\\n",
      "0     LICENSE ISSUED - ACTIVE    352640.0      8270 E Northfield Blvd # 1485   \n",
      "1     LICENSE ISSUED - ACTIVE    270168.0          4955 S Ulster St Unit 102   \n",
      "2     LICENSE ISSUED - ACTIVE    250358.0                   1580 Lawrence St   \n",
      "3     LICENSE ISSUED - ACTIVE    167440.0                      12 E 11th Ave   \n",
      "4     LICENSE ISSUED - ACTIVE    175442.0                    1450 Larimer St   \n",
      "5     LICENSE ISSUED - ACTIVE    177056.0                       1605 17th St   \n",
      "6     LICENSE ISSUED - ACTIVE    184864.0                   341 E Colfax Ave   \n",
      "7     LICENSE ISSUED - ACTIVE    177388.0                        511 16th St   \n",
      "8     LICENSE ISSUED - ACTIVE    245944.0                     423 E 17th Ave   \n",
      "9     LICENSE ISSUED - ACTIVE    376741.0                     1514 N York St   \n",
      "10    LICENSE ISSUED - ACTIVE     63393.0                801 N Colorado Blvd   \n",
      "11    LICENSE ISSUED - ACTIVE    184736.0                  900 N Santa Fe Dr   \n",
      "12    LICENSE ISSUED - ACTIVE     55265.0                 1437 California St   \n",
      "13    LICENSE ISSUED - ACTIVE     21667.0                  6901 E Colfax Ave   \n",
      "14    LICENSE ISSUED - ACTIVE    350800.0                    2000 E 28th Ave   \n",
      "15    LICENSE ISSUED - ACTIVE    191668.0                   988 N Lincoln St   \n",
      "16    LICENSE ISSUED - ACTIVE    225505.0                     1920 Market St   \n",
      "17    LICENSE ISSUED - ACTIVE         NaN                                NaN   \n",
      "18    LICENSE ISSUED - ACTIVE     43442.0                     2101 Market St   \n",
      "19    LICENSE ISSUED - ACTIVE         NaN                                NaN   \n",
      "20    LICENSE ISSUED - ACTIVE    177137.0                    1222 Glenarm Pl   \n",
      "21    LICENSE ISSUED - ACTIVE    169031.0                    3200 N Tejon St   \n",
      "22    LICENSE ISSUED - ACTIVE    469690.0            1701 Wynkoop St Ste 155   \n",
      "23    LICENSE ISSUED - ACTIVE    376288.0                       1380 17th St   \n",
      "24    LICENSE ISSUED - ACTIVE     65809.0                     1155 E 9th Ave   \n",
      "25    LICENSE ISSUED - ACTIVE     58793.0                  1515 N Madison St   \n",
      "26    LICENSE ISSUED - ACTIVE    177075.0                  1906 E Colfax Ave   \n",
      "27    LICENSE ISSUED - ACTIVE         NaN                                NaN   \n",
      "28    LICENSE ISSUED - ACTIVE    246293.0                    3828 W 23rd Ave   \n",
      "29    LICENSE ISSUED - ACTIVE     19943.0                   2200 N Oneida St   \n",
      "...                       ...         ...                                ...   \n",
      "1816  LICENSE ISSUED - ACTIVE     61204.0               3125 S Sheridan Blvd   \n",
      "1817  LICENSE ISSUED - ACTIVE    352004.0                  2423 S Downing St   \n",
      "1818  LICENSE ISSUED - ACTIVE    246415.0                      600 E 6th Ave   \n",
      "1819  LICENSE ISSUED - ACTIVE    180168.0               1653 S Colorado Blvd   \n",
      "1820  LICENSE ISSUED - ACTIVE     89554.0                  1080 S Gaylord St   \n",
      "1821  LICENSE ISSUED - ACTIVE    261084.0                     300 S Pearl St   \n",
      "1822  LICENSE ISSUED - ACTIVE    364126.0       8100 W Crestline Ave Unit A2   \n",
      "1823  LICENSE ISSUED - ACTIVE    136173.0      820 S Monaco Street Pkwy # 1B   \n",
      "1824  LICENSE ISSUED - ACTIVE     84963.0                     2810 E 1st Ave   \n",
      "1825  LICENSE ISSUED - ACTIVE    264042.0            2500 E 1st Ave Unit 101   \n",
      "1826  LICENSE ISSUED - ACTIVE    111605.0             2001 S University Blvd   \n",
      "1827  LICENSE ISSUED - ACTIVE    385119.0                 6325 E Hampden Ave   \n",
      "1828  LICENSE ISSUED - ACTIVE    180830.0                   726 N Lincoln St   \n",
      "1829  LICENSE ISSUED - ACTIVE    137856.0                  4100 E Mexico Ave   \n",
      "1830  LICENSE ISSUED - ACTIVE         NaN                                NaN   \n",
      "1831  LICENSE ISSUED - ACTIVE     89554.0                  1080 S Gaylord St   \n",
      "1832  LICENSE ISSUED - ACTIVE    221147.0                  8000 E Quincy Ave   \n",
      "1833  LICENSE ISSUED - ACTIVE    246176.0                 300 N Federal Blvd   \n",
      "1834  LICENSE ISSUED - ACTIVE    137853.0               1550 S Colorado Blvd   \n",
      "1835  LICENSE ISSUED - ACTIVE    117902.0                2418 S Federal Blvd   \n",
      "1836  LICENSE ISSUED - ACTIVE    250336.0                   1703 E Evans Ave   \n",
      "1837  LICENSE ISSUED - ACTIVE    134771.0             8101 E Mississippi Ave   \n",
      "1838  LICENSE ISSUED - ACTIVE    221995.0                    1551 S Pearl St   \n",
      "1839  LICENSE ISSUED - ACTIVE    181274.0                     2900 E 2nd Ave   \n",
      "1840  LICENSE ISSUED - ACTIVE     90673.0              785 W Mississippi Ave   \n",
      "1841  LICENSE ISSUED - ACTIVE    182487.0                  722 N Santa Fe Dr   \n",
      "1842  LICENSE ISSUED - ACTIVE    351695.0                       8 S Broadway   \n",
      "1843  LICENSE ISSUED - ACTIVE    270142.0  2223 S Monaco Street Pkwy Unit E7   \n",
      "1844  LICENSE ISSUED - ACTIVE    261283.0        9660 E Alameda Ave Unit 103   \n",
      "1845  LICENSE ISSUED - ACTIVE     81682.0                     1700 E 6th Ave   \n",
      "\n",
      "        CITY STATE  COUNCIL_DIST  POLICE_DIST  CENSUS_TRACT     X_COORD  \\\n",
      "0     Denver    CO             8            5          4105  3170852.00   \n",
      "1     Denver    CO             4            3          6804  3170362.00   \n",
      "2     Denver    CO             9            6          1702  3141544.00   \n",
      "3     Denver    CO            10            6          2701  3144275.00   \n",
      "4     Denver    CO             9            6          1701  3140922.00   \n",
      "5     Denver    CO             9            6          1701  3140957.00   \n",
      "6     Denver    CO            10            6          2601  3145484.00   \n",
      "7     Denver    CO             9            6          1702  3143285.00   \n",
      "8     Denver    CO            10            6          2601  3145772.00   \n",
      "9     Denver    CO             9            2          3701  3151971.00   \n",
      "10    Denver    CO            10            2          3300  3157236.00   \n",
      "11    Denver    CO             3            1          1800  3141092.00   \n",
      "12    Denver    CO             9            6          1702  3142240.00   \n",
      "13    Denver    CO             8            2          4202  3166523.00   \n",
      "14    Denver    CO             9            2          2300  3150917.00   \n",
      "15    Denver    CO            10            6          2702  3144596.00   \n",
      "16    Denver    CO             9            6          1701  3142235.00   \n",
      "17       NaN   NaN             1            1           402  3137486.00   \n",
      "18    Denver    CO             9            6          1600  3142826.00   \n",
      "19       NaN   NaN             9            6          1701  3142106.00   \n",
      "20    Denver    CO             9            6          1702  3142209.00   \n",
      "21    Denver    CO             1            1          1102  3137479.00   \n",
      "22    Denver    CO             9            6          1701  3140691.00   \n",
      "23    Denver    CO             9            6          1701  3141409.00   \n",
      "24    Denver    CO            10            6          2702  3147996.00   \n",
      "25    Denver    CO             9            2          3701  3155562.00   \n",
      "26    Denver    CO            10            6          3202  3150620.00   \n",
      "27       NaN   NaN             1            1           303  3129611.00   \n",
      "28    Denver    CO             1            1           502  3130004.00   \n",
      "29    Denver    CO             8            2          4202  3166517.00   \n",
      "...      ...   ...           ...          ...           ...         ...   \n",
      "1816  Denver    CO             2            4         11902  3125408.00   \n",
      "1817  Denver    CO             6            3          3002  3148173.00   \n",
      "1818  Denver    CO            10            3          2801  3146313.00   \n",
      "1819  Denver    CO             6            3          3902  3156983.00   \n",
      "1820  Denver    CO             6            3          3402  3151551.00   \n",
      "1821  Denver    CO             7            3          2902  3146235.00   \n",
      "1822  Denver    CO             2            4         12010  3115311.63   \n",
      "1823  Denver    CO             5            3          5002  3165333.00   \n",
      "1824  Denver    CO            10            3          3800  3153211.00   \n",
      "1825  Denver    CO            10            3          3800  3152698.00   \n",
      "1826  Denver    CO             6            3          3003  3152055.00   \n",
      "1827  Denver    CO             4            3          6812  3164207.00   \n",
      "1828  Denver    CO            10            6          2702  3144636.00   \n",
      "1829  Denver    CO             6            3          5104  3157840.00   \n",
      "1830     NaN   NaN             4            3          6810  3168969.00   \n",
      "1831  Denver    CO             6            3          3402  3151551.00   \n",
      "1832  Denver    CO             4            3          6809  3169836.00   \n",
      "1833  Denver    CO             7            4          1000  3133662.00   \n",
      "1834  Denver    CO             6            3          5104  3157628.00   \n",
      "1835  Denver    CO             7            4          5400  3133801.00   \n",
      "1836  Denver    CO             6            3          3003  3149930.00   \n",
      "1837  Denver    CO             5            3          7088  3170809.00   \n",
      "1838  Denver    CO             7            3          3001  3146134.00   \n",
      "1839  Denver    CO            10            3          3800  3153807.00   \n",
      "1840  Denver    CO             7            4          1302  3141697.00   \n",
      "1841  Denver    CO             3            1          1800  3141059.00   \n",
      "1842  Denver    CO             7            3          2802  3144279.00   \n",
      "1843  Denver    CO             4            3          6901  3164939.00   \n",
      "1844  Denver    CO             5            3          7089  3175410.00   \n",
      "1845  Denver    CO            10            3          3203  3149924.00   \n",
      "\n",
      "         Y_COORD  \n",
      "0     1711361.00  \n",
      "1     1653802.00  \n",
      "2     1697831.00  \n",
      "3     1692528.00  \n",
      "4     1697675.00  \n",
      "5     1699418.00  \n",
      "6     1694917.00  \n",
      "7     1696363.00  \n",
      "8     1696074.00  \n",
      "9     1695018.00  \n",
      "10    1691006.00  \n",
      "11    1691473.00  \n",
      "12    1696288.00  \n",
      "13    1695124.00  \n",
      "14    1701018.00  \n",
      "15    1691838.00  \n",
      "16    1699538.00  \n",
      "17    1701805.00  \n",
      "18    1700311.00  \n",
      "19    1699804.00  \n",
      "20    1694992.00  \n",
      "21    1702852.00  \n",
      "22    1699758.00  \n",
      "23    1698688.00  \n",
      "24    1691775.00  \n",
      "25    1695080.00  \n",
      "26    1694818.00  \n",
      "27    1702757.00  \n",
      "28    1698799.00  \n",
      "29    1698614.00  \n",
      "...          ...  \n",
      "1816  1663904.00  \n",
      "1817  1670339.00  \n",
      "1818  1689560.00  \n",
      "1819  1675619.00  \n",
      "1820  1679179.00  \n",
      "1821  1684284.00  \n",
      "1822  1650210.39  \n",
      "1823  1681030.00  \n",
      "1824  1686545.00  \n",
      "1825  1686446.00  \n",
      "1826  1673014.00  \n",
      "1827  1663608.00  \n",
      "1828  1690430.00  \n",
      "1829  1675062.00  \n",
      "1830  1663071.00  \n",
      "1831  1679179.00  \n",
      "1832  1657728.00  \n",
      "1833  1687962.00  \n",
      "1834  1676084.00  \n",
      "1835  1670309.00  \n",
      "1836  1672537.00  \n",
      "1837  1679526.00  \n",
      "1838  1676048.00  \n",
      "1839  1687344.00  \n",
      "1840  1679155.00  \n",
      "1841  1690368.00  \n",
      "1842  1686215.00  \n",
      "1843  1672224.00  \n",
      "1844  1683439.00  \n",
      "1845  1689569.00  \n",
      "\n",
      "[1846 rows x 14 columns]\n"
     ]
    }
   ],
   "source": [
    "# Upload Liquor License data file into the empty liqourlicenses table\n",
    "liquorfile = pd.read_csv('liquor_licenses.csv')\n",
    "liquorfile.to_sql('liquorlicenses', conn, if_exists='append', index=False)\n",
    "liq_licenses = liquorfile\n",
    "print (liq_licenses)"
   ]
  },
  {
   "cell_type": "code",
   "execution_count": 200,
   "metadata": {
    "collapsed": false
   },
   "outputs": [
    {
     "name": "stdout",
     "output_type": "stream",
     "text": [
      "Done.\n"
     ]
    },
    {
     "data": {
      "text/plain": [
       "[]"
      ]
     },
     "execution_count": 200,
     "metadata": {},
     "output_type": "execute_result"
    }
   ],
   "source": [
    "#Create empty dispensary addresses table for dispensary address data file\n",
    "%sql create table dispensary_addr(key int(255), address int(12), street_name varchar(255), state varchar(2), zip int(5))"
   ]
  },
  {
   "cell_type": "code",
   "execution_count": 201,
   "metadata": {
    "collapsed": false
   },
   "outputs": [],
   "source": [
    "# Upload Dispensary addresses into the empty dispensary_addr table\n",
    "conn = sqlite3.connect(\":memory:\")\n",
    "df = pd.read_csv('dispaddr.csv.csv')\n",
    "df.to_sql('dispensary_addr', conn, if_exists='append', index=False)"
   ]
  },
  {
   "cell_type": "code",
   "execution_count": 195,
   "metadata": {
    "collapsed": false
   },
   "outputs": [
    {
     "name": "stdout",
     "output_type": "stream",
     "text": [
      "Done.\n"
     ]
    },
    {
     "data": {
      "text/html": [
       "<table>\n",
       "    <tr>\n",
       "        <th>key</th>\n",
       "        <th>address</th>\n",
       "        <th>street_name</th>\n",
       "        <th>state</th>\n",
       "        <th>zip</th>\n",
       "    </tr>\n",
       "</table>"
      ],
      "text/plain": [
       "[]"
      ]
     },
     "execution_count": 195,
     "metadata": {},
     "output_type": "execute_result"
    }
   ],
   "source": [
    "#Print column names from Dispensary addresses\n",
    "%sql select * from dispensary_addr"
   ]
  },
  {
   "cell_type": "code",
   "execution_count": 202,
   "metadata": {
    "collapsed": true
   },
   "outputs": [],
   "source": [
    "#Change name of table back to dispensary_addr\n",
    "dispensary_addr = df"
   ]
  },
  {
   "cell_type": "code",
   "execution_count": 204,
   "metadata": {
    "collapsed": false
   },
   "outputs": [
    {
     "name": "stdout",
     "output_type": "stream",
     "text": [
      "     address  street_name state    zip\n",
      "0       4012         38th    CO  80212\n",
      "1       1617        Wazee    CO  80202\n",
      "2       4625       Colfax    CO  80220\n",
      "3        505         40th    CO  80216\n",
      "4       5110         Race    CO  80216\n",
      "5       2059          9th    CO  80204\n",
      "6         70     Broadway    CO  80203\n",
      "7       1269        Elati    CO  80204\n",
      "8       2748      Alameda    CO  80219\n",
      "9        445      Federal    CO  80204\n",
      "10      1301       Marion    CO  80218\n",
      "11       910         16th    CO  80202\n",
      "12      3435     Yosemite    CO  80231\n",
      "13       755      Federal    CO  80219\n",
      "14      4571          Ivy    CO  80216\n",
      "15      3555     Yosemite    CO  80237\n",
      "16      1755     Broadway    CO  80210\n",
      "17      2119      Larimer    CO  80205\n",
      "18      4103     Sheridan    CO  80212\n",
      "19       432     Broadway    CO  80209\n",
      "20      5353       Joliet    CO  80239\n",
      "21     12005         37th    CO  80239\n",
      "22      1909     Broadway    CO  80210\n",
      "23      3054      Larimer    CO  80205\n",
      "24      4735         38th    CO  80212\n",
      "25      4801       Colfax    CO  80204\n",
      "26       930        Byers    CO  80223\n",
      "27       310   Saint Paul    CO  80206\n",
      "28      4902        Smith    CO  80216\n",
      "29      3121       Colfax    CO  80206\n",
      "..       ...          ...   ...    ...\n",
      "142     4820     Morrison    CO  80219\n",
      "143     2117      Larimer    CO  80205\n",
      "144     5100         38th    CO  80223\n",
      "145      330       Colfax    CO  80203\n",
      "146     9206      Hampden    CO  80231\n",
      "147        1     Broadway    CO  80203\n",
      "148     2707         38th    CO  80211\n",
      "149     4400        Grape    CO  80216\n",
      "150     2601      Alameda    CO  80219\n",
      "151     6681      Federal    CO  80221\n",
      "152      985        Logan    CO  80209\n",
      "153     3995         50th    CO  80216\n",
      "154     7200        Smith    CO  80207\n",
      "155     6858        Evans    CO  80224\n",
      "156     2426      Federal    CO  80219\n",
      "157     5050         York    CO  80216\n",
      "158     3814       Walnut    CO  80216\n",
      "159      755        Jason    CO  80223\n",
      "160      800         Park    CO  80205\n",
      "161     2383      Downing    CO  80210\n",
      "162     2675         38th    CO  80211\n",
      "163     4501        Adams    CO  80216\n",
      "164     2001     Broadway    CO  80210\n",
      "165      183      Alameda    CO  80223\n",
      "166     2215  Mississippi    CO  80210\n",
      "167     2394     Broadway    CO  80210\n",
      "168     3480       Galena    CO  80231\n",
      "169     5926       Colfax    CO  80220\n",
      "170     6853    Leetsdale    CO  80224\n",
      "171      777       Canosa    CO  80204\n",
      "\n",
      "[172 rows x 4 columns]\n"
     ]
    }
   ],
   "source": [
    "#Print Dispensary Addresses\n",
    "print (dispensary_addr)"
   ]
  },
  {
   "cell_type": "code",
   "execution_count": 232,
   "metadata": {
    "collapsed": false
   },
   "outputs": [
    {
     "name": "stdout",
     "output_type": "stream",
     "text": [
      "Done.\n"
     ]
    },
    {
     "data": {
      "text/plain": [
       "[]"
      ]
     },
     "execution_count": 232,
     "metadata": {},
     "output_type": "execute_result"
    }
   ],
   "source": [
    "#Create empty copshops table for copshops data file\n",
    "%sql create table copshops(gid NULL,name varchar(100), address varchar(100), X float(50), Y float(50), the_geom geometry, primary key(gid))"
   ]
  },
  {
   "cell_type": "code",
   "execution_count": 233,
   "metadata": {
    "collapsed": false
   },
   "outputs": [
    {
     "name": "stdout",
     "output_type": "stream",
     "text": [
      "                          NAME               ADDRESS          X           Y\n",
      "0  COMMUNITY HUB at NORTHFIELD  8230 Northfield Blvd  39.782835 -104.892380\n",
      "1        FEDERAL BLVD COP SHOP   2635 N Federal Blvd  39.755730 -105.025276\n",
      "2         WEST COLFAX COP SHOP     5094 W Colfax Ave  39.740450 -105.052115\n",
      "3         WEST DENVER COP SHOP      4200 Morrison Rd  39.704714 -105.042060\n",
      "4         BEAR VALLEY COP SHOP  3100 S Sheridan Blvd  39.656309 -105.048249\n",
      "5           LEETSDALE COP SHOP     7150 Leetsdale Rd  39.697819 -104.905316\n"
     ]
    }
   ],
   "source": [
    "#Populate copshops table with copshops file data\n",
    "conn = sqlite3.connect(\":memory:\")\n",
    "copshops = pd.read_csv('copshops.csv.csv')\n",
    "copshops.to_sql('copshops', conn, if_exists='append', index=False)\n",
    "print (copshops)"
   ]
  },
  {
   "cell_type": "code",
   "execution_count": 234,
   "metadata": {
    "collapsed": false
   },
   "outputs": [
    {
     "name": "stdout",
     "output_type": "stream",
     "text": [
      "Done.\n"
     ]
    },
    {
     "data": {
      "text/html": [
       "<table>\n",
       "    <tr>\n",
       "        <th>gid</th>\n",
       "        <th>name</th>\n",
       "        <th>address</th>\n",
       "        <th>X</th>\n",
       "        <th>Y</th>\n",
       "        <th>the_geom</th>\n",
       "    </tr>\n",
       "</table>"
      ],
      "text/plain": [
       "[]"
      ]
     },
     "execution_count": 234,
     "metadata": {},
     "output_type": "execute_result"
    }
   ],
   "source": [
    "%sql select * from copshops"
   ]
  },
  {
   "cell_type": "code",
   "execution_count": 235,
   "metadata": {
    "collapsed": false
   },
   "outputs": [
    {
     "name": "stdout",
     "output_type": "stream",
     "text": [
      "(sqlite3.OperationalError) near \"view\": syntax error [SQL: 'view copshops']\n"
     ]
    }
   ],
   "source": [
    "%sql view copshops"
   ]
  },
  {
   "cell_type": "code",
   "execution_count": 14,
   "metadata": {
    "collapsed": false
   },
   "outputs": [
    {
     "name": "stdout",
     "output_type": "stream",
     "text": [
      "(psycopg2.ProgrammingError) syntax error at or near \"table\"\n",
      "LINE 1: update table copshops ST_AddGeometryColumn( 'copshops', 'geo...\n",
      "               ^\n",
      " [SQL: \"update table copshops ST_AddGeometryColumn( 'copshops', 'geom', 4326, 'POINT', 2 );\"]\n"
     ]
    }
   ],
   "source": [
    "%sql update table copshops ST_AddGeometryColumn( 'copshops', 'geom', 4326, 'POINT', 2 );"
   ]
  },
  {
   "cell_type": "code",
   "execution_count": 3,
   "metadata": {
    "collapsed": false
   },
   "outputs": [
    {
     "name": "stdout",
     "output_type": "stream",
     "text": [
      "0 rows affected.\n"
     ]
    },
    {
     "data": {
      "text/html": [
       "<table>\n",
       "    <tr>\n",
       "        <th>name</th>\n",
       "        <th>address</th>\n",
       "        <th>x</th>\n",
       "        <th>y</th>\n",
       "    </tr>\n",
       "</table>"
      ],
      "text/plain": [
       "[]"
      ]
     },
     "execution_count": 3,
     "metadata": {},
     "output_type": "execute_result"
    }
   ],
   "source": [
    "%sql select * from copshops"
   ]
  },
  {
   "cell_type": "code",
   "execution_count": 4,
   "metadata": {
    "collapsed": false
   },
   "outputs": [
    {
     "name": "stdout",
     "output_type": "stream",
     "text": [
      "1 rows affected.\n"
     ]
    },
    {
     "data": {
      "text/plain": [
       "[]"
      ]
     },
     "execution_count": 4,
     "metadata": {},
     "output_type": "execute_result"
    }
   ],
   "source": [
    "%sql insert into copshops values('Community Hub at Northfield', '8230 Northfield Blvd', 39.782835,-104.89238  )"
   ]
  },
  {
   "cell_type": "code",
   "execution_count": 5,
   "metadata": {
    "collapsed": false
   },
   "outputs": [
    {
     "name": "stdout",
     "output_type": "stream",
     "text": [
      "1 rows affected.\n"
     ]
    },
    {
     "data": {
      "text/html": [
       "<table>\n",
       "    <tr>\n",
       "        <th>name</th>\n",
       "        <th>address</th>\n",
       "        <th>x</th>\n",
       "        <th>y</th>\n",
       "    </tr>\n",
       "    <tr>\n",
       "        <td>Community Hub at Northfield</td>\n",
       "        <td>8230 Northfield Blvd</td>\n",
       "        <td>39.782835</td>\n",
       "        <td>-104.89238</td>\n",
       "    </tr>\n",
       "</table>"
      ],
      "text/plain": [
       "[(u'Community Hub at Northfield', u'8230 Northfield Blvd', 39.782835, -104.89238)]"
      ]
     },
     "execution_count": 5,
     "metadata": {},
     "output_type": "execute_result"
    }
   ],
   "source": [
    "%sql select * from copshops"
   ]
  },
  {
   "cell_type": "code",
   "execution_count": 10,
   "metadata": {
    "collapsed": false
   },
   "outputs": [
    {
     "name": "stdout",
     "output_type": "stream",
     "text": [
      "1 rows affected.\n",
      "1 rows affected.\n",
      "1 rows affected.\n",
      "1 rows affected.\n",
      "1 rows affected.\n"
     ]
    },
    {
     "data": {
      "text/plain": [
       "[]"
      ]
     },
     "execution_count": 10,
     "metadata": {},
     "output_type": "execute_result"
    }
   ],
   "source": [
    "%sql insert into copshops values('FEDERAL BLVD COP SHOP','2635 N Federal Blvd',39.75573,-105.025276) \n",
    "%sql insert into copshops values('WEST COLFAX COP SHOP','5094 W Colfax Ave',39.74045,-105.052115)\n",
    "%sql insert into copshops values('WEST DENVER COP SHOP','4200 Morrison Rd',39.704714,-105.04206)\n",
    "%sql insert into copshops values('BEAR VALLEY COP SHOP','3100 S Sheridan Blvd',39.656309,-105.048249)\n",
    "%sql insert into copshops values('LEETSDALE COP SHOP','7150 Leetsdale Rd',39.697819,-104.905316)"
   ]
  },
  {
   "cell_type": "code",
   "execution_count": 11,
   "metadata": {
    "collapsed": false
   },
   "outputs": [
    {
     "name": "stdout",
     "output_type": "stream",
     "text": [
      "6 rows affected.\n"
     ]
    },
    {
     "data": {
      "text/html": [
       "<table>\n",
       "    <tr>\n",
       "        <th>name</th>\n",
       "        <th>address</th>\n",
       "        <th>x</th>\n",
       "        <th>y</th>\n",
       "    </tr>\n",
       "    <tr>\n",
       "        <td>Community Hub at Northfield</td>\n",
       "        <td>8230 Northfield Blvd</td>\n",
       "        <td>39.782835</td>\n",
       "        <td>-104.89238</td>\n",
       "    </tr>\n",
       "    <tr>\n",
       "        <td>FEDERAL BLVD COP SHOP</td>\n",
       "        <td>2635 N Federal Blvd</td>\n",
       "        <td>39.75573</td>\n",
       "        <td>-105.025276</td>\n",
       "    </tr>\n",
       "    <tr>\n",
       "        <td>WEST COLFAX COP SHOP</td>\n",
       "        <td>5094 W Colfax Ave</td>\n",
       "        <td>39.74045</td>\n",
       "        <td>-105.052115</td>\n",
       "    </tr>\n",
       "    <tr>\n",
       "        <td>WEST DENVER COP SHOP</td>\n",
       "        <td>4200 Morrison Rd</td>\n",
       "        <td>39.704714</td>\n",
       "        <td>-105.04206</td>\n",
       "    </tr>\n",
       "    <tr>\n",
       "        <td>BEAR VALLEY COP SHOP</td>\n",
       "        <td>3100 S Sheridan Blvd</td>\n",
       "        <td>39.656309</td>\n",
       "        <td>-105.048249</td>\n",
       "    </tr>\n",
       "    <tr>\n",
       "        <td>LEETSDALE COP SHOP</td>\n",
       "        <td>7150 Leetsdale Rd</td>\n",
       "        <td>39.697819</td>\n",
       "        <td>-104.905316</td>\n",
       "    </tr>\n",
       "</table>"
      ],
      "text/plain": [
       "[(u'Community Hub at Northfield', u'8230 Northfield Blvd', 39.782835, -104.89238),\n",
       " (u'FEDERAL BLVD COP SHOP', u'2635 N Federal Blvd', 39.75573, -105.025276),\n",
       " (u'WEST COLFAX COP SHOP', u'5094 W Colfax Ave', 39.74045, -105.052115),\n",
       " (u'WEST DENVER COP SHOP', u'4200 Morrison Rd', 39.704714, -105.04206),\n",
       " (u'BEAR VALLEY COP SHOP', u'3100 S Sheridan Blvd', 39.656309, -105.048249),\n",
       " (u'LEETSDALE COP SHOP', u'7150 Leetsdale Rd', 39.697819, -104.905316)]"
      ]
     },
     "execution_count": 11,
     "metadata": {},
     "output_type": "execute_result"
    }
   ],
   "source": [
    "%sql select * from copshops"
   ]
  },
  {
   "cell_type": "code",
   "execution_count": 12,
   "metadata": {
    "collapsed": false
   },
   "outputs": [
    {
     "name": "stdout",
     "output_type": "stream",
     "text": [
      "1 rows affected.\n"
     ]
    },
    {
     "data": {
      "text/html": [
       "<table>\n",
       "    <tr>\n",
       "        <th>addgeometrycolumn</th>\n",
       "    </tr>\n",
       "    <tr>\n",
       "        <td>public.copshops.geometry SRID:4326 TYPE:POINT DIMS:2 </td>\n",
       "    </tr>\n",
       "</table>"
      ],
      "text/plain": [
       "[(u'public.copshops.geometry SRID:4326 TYPE:POINT DIMS:2 ',)]"
      ]
     },
     "execution_count": 12,
     "metadata": {},
     "output_type": "execute_result"
    }
   ],
   "source": [
    "%sql select AddGeometryColumn('copshops', 'geometry', 4326, 'POINT', 2)"
   ]
  },
  {
   "cell_type": "code",
   "execution_count": 13,
   "metadata": {
    "collapsed": false
   },
   "outputs": [
    {
     "name": "stdout",
     "output_type": "stream",
     "text": [
      "5 rows affected.\n"
     ]
    },
    {
     "data": {
      "text/html": [
       "<table>\n",
       "    <tr>\n",
       "        <th>column_name</th>\n",
       "        <th>data_type</th>\n",
       "    </tr>\n",
       "    <tr>\n",
       "        <td>name</td>\n",
       "        <td>character varying</td>\n",
       "    </tr>\n",
       "    <tr>\n",
       "        <td>address</td>\n",
       "        <td>character varying</td>\n",
       "    </tr>\n",
       "    <tr>\n",
       "        <td>x</td>\n",
       "        <td>double precision</td>\n",
       "    </tr>\n",
       "    <tr>\n",
       "        <td>y</td>\n",
       "        <td>double precision</td>\n",
       "    </tr>\n",
       "    <tr>\n",
       "        <td>geometry</td>\n",
       "        <td>USER-DEFINED</td>\n",
       "    </tr>\n",
       "</table>"
      ],
      "text/plain": [
       "[(u'name', u'character varying'),\n",
       " (u'address', u'character varying'),\n",
       " (u'x', u'double precision'),\n",
       " (u'y', u'double precision'),\n",
       " (u'geometry', u'USER-DEFINED')]"
      ]
     },
     "execution_count": 13,
     "metadata": {},
     "output_type": "execute_result"
    }
   ],
   "source": [
    "%sql select column_name, data_type from INFORMATION_SCHEMA.COLUMNS where table_name = 'copshops';"
   ]
  },
  {
   "cell_type": "code",
   "execution_count": 21,
   "metadata": {
    "collapsed": false
   },
   "outputs": [
    {
     "name": "stdout",
     "output_type": "stream",
     "text": [
      "(psycopg2.ProgrammingError) syntax error at or near \"%\"\n",
      "LINE 1: insert into copshops (geometry)(%sql ST_GeomFromText('POINT(...\n",
      "                                        ^\n",
      " [SQL: \"insert into copshops (geometry)(%%sql ST_GeomFromText('POINT(39.782835 -104.89238)', 4326)\"]\n"
     ]
    }
   ],
   "source": [
    "%sql insert into copshops (geometry)(%sql ST_GeomFromText('POINT(39.782835 -104.89238)', 4326)"
   ]
  },
  {
   "cell_type": "code",
   "execution_count": 3,
   "metadata": {
    "collapsed": false
   },
   "outputs": [
    {
     "name": "stdout",
     "output_type": "stream",
     "text": [
      "1 rows affected.\n"
     ]
    },
    {
     "data": {
      "text/plain": [
       "[]"
      ]
     },
     "execution_count": 3,
     "metadata": {},
     "output_type": "execute_result"
    }
   ],
   "source": [
    "%sql update copshops set geometry = ST_GeomFromText('POINT(-104.89238 39.782835)', 4326) where (name = 'Community Hub at Northfield')"
   ]
  },
  {
   "cell_type": "code",
   "execution_count": 4,
   "metadata": {
    "collapsed": false
   },
   "outputs": [
    {
     "name": "stdout",
     "output_type": "stream",
     "text": [
      "6 rows affected.\n"
     ]
    },
    {
     "data": {
      "text/html": [
       "<table>\n",
       "    <tr>\n",
       "        <th>geometry</th>\n",
       "    </tr>\n",
       "    <tr>\n",
       "        <td>None</td>\n",
       "    </tr>\n",
       "    <tr>\n",
       "        <td>None</td>\n",
       "    </tr>\n",
       "    <tr>\n",
       "        <td>None</td>\n",
       "    </tr>\n",
       "    <tr>\n",
       "        <td>None</td>\n",
       "    </tr>\n",
       "    <tr>\n",
       "        <td>None</td>\n",
       "    </tr>\n",
       "    <tr>\n",
       "        <td>0101000020E6100000B0E600C11C395AC00395F1EF33E44340</td>\n",
       "    </tr>\n",
       "</table>"
      ],
      "text/plain": [
       "[(None,),\n",
       " (None,),\n",
       " (None,),\n",
       " (None,),\n",
       " (None,),\n",
       " ('0101000020E6100000B0E600C11C395AC00395F1EF33E44340',)]"
      ]
     },
     "execution_count": 4,
     "metadata": {},
     "output_type": "execute_result"
    }
   ],
   "source": [
    "%sql select geometry from copshops"
   ]
  },
  {
   "cell_type": "code",
   "execution_count": 5,
   "metadata": {
    "collapsed": false
   },
   "outputs": [
    {
     "name": "stdout",
     "output_type": "stream",
     "text": [
      "6 rows affected.\n"
     ]
    },
    {
     "data": {
      "text/html": [
       "<table>\n",
       "    <tr>\n",
       "        <th>name</th>\n",
       "        <th>address</th>\n",
       "        <th>x</th>\n",
       "        <th>y</th>\n",
       "        <th>geometry</th>\n",
       "    </tr>\n",
       "    <tr>\n",
       "        <td>FEDERAL BLVD COP SHOP</td>\n",
       "        <td>2635 N Federal Blvd</td>\n",
       "        <td>39.75573</td>\n",
       "        <td>-105.025276</td>\n",
       "        <td>None</td>\n",
       "    </tr>\n",
       "    <tr>\n",
       "        <td>WEST COLFAX COP SHOP</td>\n",
       "        <td>5094 W Colfax Ave</td>\n",
       "        <td>39.74045</td>\n",
       "        <td>-105.052115</td>\n",
       "        <td>None</td>\n",
       "    </tr>\n",
       "    <tr>\n",
       "        <td>WEST DENVER COP SHOP</td>\n",
       "        <td>4200 Morrison Rd</td>\n",
       "        <td>39.704714</td>\n",
       "        <td>-105.04206</td>\n",
       "        <td>None</td>\n",
       "    </tr>\n",
       "    <tr>\n",
       "        <td>BEAR VALLEY COP SHOP</td>\n",
       "        <td>3100 S Sheridan Blvd</td>\n",
       "        <td>39.656309</td>\n",
       "        <td>-105.048249</td>\n",
       "        <td>None</td>\n",
       "    </tr>\n",
       "    <tr>\n",
       "        <td>LEETSDALE COP SHOP</td>\n",
       "        <td>7150 Leetsdale Rd</td>\n",
       "        <td>39.697819</td>\n",
       "        <td>-104.905316</td>\n",
       "        <td>None</td>\n",
       "    </tr>\n",
       "    <tr>\n",
       "        <td>Community Hub at Northfield</td>\n",
       "        <td>8230 Northfield Blvd</td>\n",
       "        <td>39.782835</td>\n",
       "        <td>-104.89238</td>\n",
       "        <td>0101000020E6100000B0E600C11C395AC00395F1EF33E44340</td>\n",
       "    </tr>\n",
       "</table>"
      ],
      "text/plain": [
       "[(u'FEDERAL BLVD COP SHOP', u'2635 N Federal Blvd', 39.75573, -105.025276, None),\n",
       " (u'WEST COLFAX COP SHOP', u'5094 W Colfax Ave', 39.74045, -105.052115, None),\n",
       " (u'WEST DENVER COP SHOP', u'4200 Morrison Rd', 39.704714, -105.04206, None),\n",
       " (u'BEAR VALLEY COP SHOP', u'3100 S Sheridan Blvd', 39.656309, -105.048249, None),\n",
       " (u'LEETSDALE COP SHOP', u'7150 Leetsdale Rd', 39.697819, -104.905316, None),\n",
       " (u'Community Hub at Northfield', u'8230 Northfield Blvd', 39.782835, -104.89238, '0101000020E6100000B0E600C11C395AC00395F1EF33E44340')]"
      ]
     },
     "execution_count": 5,
     "metadata": {},
     "output_type": "execute_result"
    }
   ],
   "source": [
    "%sql select * from copshops"
   ]
  },
  {
   "cell_type": "code",
   "execution_count": 6,
   "metadata": {
    "collapsed": false
   },
   "outputs": [
    {
     "name": "stdout",
     "output_type": "stream",
     "text": [
      "1 rows affected.\n"
     ]
    },
    {
     "data": {
      "text/plain": [
       "[]"
      ]
     },
     "execution_count": 6,
     "metadata": {},
     "output_type": "execute_result"
    }
   ],
   "source": [
    "%sql update copshops set geometry = ST_GeomFromText('POINT(-104.905316 39.697819)', 4326) where (name = 'LEETSDALE COP SHOP')"
   ]
  },
  {
   "cell_type": "code",
   "execution_count": 7,
   "metadata": {
    "collapsed": false
   },
   "outputs": [
    {
     "name": "stdout",
     "output_type": "stream",
     "text": [
      "1 rows affected.\n"
     ]
    },
    {
     "data": {
      "text/plain": [
       "[]"
      ]
     },
     "execution_count": 7,
     "metadata": {},
     "output_type": "execute_result"
    }
   ],
   "source": [
    "%sql update copshops set geometry = ST_GeomFromText('POINT(-105.048249 39.656309)', 4326) where (name = 'BEAR VALLEY COP SHOP')"
   ]
  },
  {
   "cell_type": "code",
   "execution_count": 8,
   "metadata": {
    "collapsed": false
   },
   "outputs": [
    {
     "name": "stdout",
     "output_type": "stream",
     "text": [
      "1 rows affected.\n"
     ]
    },
    {
     "data": {
      "text/plain": [
       "[]"
      ]
     },
     "execution_count": 8,
     "metadata": {},
     "output_type": "execute_result"
    }
   ],
   "source": [
    "%sql update copshops set geometry = ST_GeomFromText('POINT(-105.04206 39.704714)', 4326) where (name = 'WEST DENVER COP SHOP')"
   ]
  },
  {
   "cell_type": "code",
   "execution_count": 9,
   "metadata": {
    "collapsed": false
   },
   "outputs": [
    {
     "name": "stdout",
     "output_type": "stream",
     "text": [
      "1 rows affected.\n"
     ]
    },
    {
     "data": {
      "text/plain": [
       "[]"
      ]
     },
     "execution_count": 9,
     "metadata": {},
     "output_type": "execute_result"
    }
   ],
   "source": [
    "%sql update copshops set geometry = ST_GeomFromText('POINT(-105.052115 39.74045)', 4326) where (name = 'WEST COLFAX COP SHOP')"
   ]
  },
  {
   "cell_type": "code",
   "execution_count": 10,
   "metadata": {
    "collapsed": false
   },
   "outputs": [
    {
     "name": "stdout",
     "output_type": "stream",
     "text": [
      "1 rows affected.\n"
     ]
    },
    {
     "data": {
      "text/plain": [
       "[]"
      ]
     },
     "execution_count": 10,
     "metadata": {},
     "output_type": "execute_result"
    }
   ],
   "source": [
    "%sql update copshops set geometry = ST_GeomFromText('POINT(-105.025276 39.75573)', 4326) where (name = 'FEDERAL BLVD COP SHOP')"
   ]
  },
  {
   "cell_type": "code",
   "execution_count": 4,
   "metadata": {
    "collapsed": false
   },
   "outputs": [
    {
     "name": "stdout",
     "output_type": "stream",
     "text": [
      "Done.\n"
     ]
    },
    {
     "data": {
      "text/plain": [
       "[]"
      ]
     },
     "execution_count": 4,
     "metadata": {},
     "output_type": "execute_result"
    }
   ],
   "source": [
    "%sql alter table copshops set with oids;"
   ]
  },
  {
   "cell_type": "code",
   "execution_count": 5,
   "metadata": {
    "collapsed": false
   },
   "outputs": [
    {
     "name": "stdout",
     "output_type": "stream",
     "text": [
      "6 rows affected.\n"
     ]
    },
    {
     "data": {
      "text/html": [
       "<table>\n",
       "    <tr>\n",
       "        <th>name</th>\n",
       "        <th>address</th>\n",
       "        <th>x</th>\n",
       "        <th>y</th>\n",
       "        <th>geometry</th>\n",
       "    </tr>\n",
       "    <tr>\n",
       "        <td>Community Hub at Northfield</td>\n",
       "        <td>8230 Northfield Blvd</td>\n",
       "        <td>39.782835</td>\n",
       "        <td>-104.89238</td>\n",
       "        <td>0101000020E6100000B0E600C11C395AC00395F1EF33E44340</td>\n",
       "    </tr>\n",
       "    <tr>\n",
       "        <td>LEETSDALE COP SHOP</td>\n",
       "        <td>7150 Leetsdale Rd</td>\n",
       "        <td>39.697819</td>\n",
       "        <td>-104.905316</td>\n",
       "        <td>0101000020E6100000EA2285B2F0395AC083C30B2252D94340</td>\n",
       "    </tr>\n",
       "    <tr>\n",
       "        <td>BEAR VALLEY COP SHOP</td>\n",
       "        <td>3100 S Sheridan Blvd</td>\n",
       "        <td>39.656309</td>\n",
       "        <td>-105.048249</td>\n",
       "        <td>0101000020E61000002444F98216435AC00589EDEE01D44340</td>\n",
       "    </tr>\n",
       "    <tr>\n",
       "        <td>WEST DENVER COP SHOP</td>\n",
       "        <td>4200 Morrison Rd</td>\n",
       "        <td>39.704714</td>\n",
       "        <td>-105.04206</td>\n",
       "        <td>0101000020E6100000111E6D1CB1425AC045847F1134DA4340</td>\n",
       "    </tr>\n",
       "    <tr>\n",
       "        <td>WEST COLFAX COP SHOP</td>\n",
       "        <td>5094 W Colfax Ave</td>\n",
       "        <td>39.74045</td>\n",
       "        <td>-105.052115</td>\n",
       "        <td>0101000020E6100000632827DA55435AC05F29CB10C7DE4340</td>\n",
       "    </tr>\n",
       "    <tr>\n",
       "        <td>FEDERAL BLVD COP SHOP</td>\n",
       "        <td>2635 N Federal Blvd</td>\n",
       "        <td>39.75573</td>\n",
       "        <td>-105.025276</td>\n",
       "        <td>0101000020E6100000EB573A1F9E415AC0944DB9C2BBE04340</td>\n",
       "    </tr>\n",
       "</table>"
      ],
      "text/plain": [
       "[(u'Community Hub at Northfield', u'8230 Northfield Blvd', 39.782835, -104.89238, '0101000020E6100000B0E600C11C395AC00395F1EF33E44340'),\n",
       " (u'LEETSDALE COP SHOP', u'7150 Leetsdale Rd', 39.697819, -104.905316, '0101000020E6100000EA2285B2F0395AC083C30B2252D94340'),\n",
       " (u'BEAR VALLEY COP SHOP', u'3100 S Sheridan Blvd', 39.656309, -105.048249, '0101000020E61000002444F98216435AC00589EDEE01D44340'),\n",
       " (u'WEST DENVER COP SHOP', u'4200 Morrison Rd', 39.704714, -105.04206, '0101000020E6100000111E6D1CB1425AC045847F1134DA4340'),\n",
       " (u'WEST COLFAX COP SHOP', u'5094 W Colfax Ave', 39.74045, -105.052115, '0101000020E6100000632827DA55435AC05F29CB10C7DE4340'),\n",
       " (u'FEDERAL BLVD COP SHOP', u'2635 N Federal Blvd', 39.75573, -105.025276, '0101000020E6100000EB573A1F9E415AC0944DB9C2BBE04340')]"
      ]
     },
     "execution_count": 5,
     "metadata": {},
     "output_type": "execute_result"
    }
   ],
   "source": [
    "%sql select * from copshops"
   ]
  },
  {
   "cell_type": "code",
   "execution_count": 6,
   "metadata": {
    "collapsed": false
   },
   "outputs": [
    {
     "name": "stdout",
     "output_type": "stream",
     "text": [
      "5 rows affected.\n"
     ]
    },
    {
     "data": {
      "text/html": [
       "<table>\n",
       "    <tr>\n",
       "        <th>column_name</th>\n",
       "        <th>data_type</th>\n",
       "    </tr>\n",
       "    <tr>\n",
       "        <td>name</td>\n",
       "        <td>character varying</td>\n",
       "    </tr>\n",
       "    <tr>\n",
       "        <td>address</td>\n",
       "        <td>character varying</td>\n",
       "    </tr>\n",
       "    <tr>\n",
       "        <td>x</td>\n",
       "        <td>double precision</td>\n",
       "    </tr>\n",
       "    <tr>\n",
       "        <td>y</td>\n",
       "        <td>double precision</td>\n",
       "    </tr>\n",
       "    <tr>\n",
       "        <td>geometry</td>\n",
       "        <td>USER-DEFINED</td>\n",
       "    </tr>\n",
       "</table>"
      ],
      "text/plain": [
       "[(u'name', u'character varying'),\n",
       " (u'address', u'character varying'),\n",
       " (u'x', u'double precision'),\n",
       " (u'y', u'double precision'),\n",
       " (u'geometry', u'USER-DEFINED')]"
      ]
     },
     "execution_count": 6,
     "metadata": {},
     "output_type": "execute_result"
    }
   ],
   "source": [
    "%sql select column_name, data_type from INFORMATION_SCHEMA.COLUMNS where table_name = 'copshops';"
   ]
  },
  {
   "cell_type": "code",
   "execution_count": 7,
   "metadata": {
    "collapsed": false
   },
   "outputs": [
    {
     "name": "stdout",
     "output_type": "stream",
     "text": [
      "(psycopg2.ProgrammingError) column \"copshps_id\" named in key does not exist\n",
      " [SQL: 'ALTER TABLE copshops ADD PRIMARY KEY (copshps_id);']\n"
     ]
    }
   ],
   "source": [
    "%sql ALTER TABLE copshops ADD PRIMARY KEY (copshps_id);\n",
    "    "
   ]
  },
  {
   "cell_type": "code",
   "execution_count": 8,
   "metadata": {
    "collapsed": false
   },
   "outputs": [
    {
     "name": "stdout",
     "output_type": "stream",
     "text": [
      "Done.\n"
     ]
    },
    {
     "data": {
      "text/plain": [
       "[]"
      ]
     },
     "execution_count": 8,
     "metadata": {},
     "output_type": "execute_result"
    }
   ],
   "source": [
    "%sql ALTER TABLE copshops ADD PRIMARY KEY (name);"
   ]
  }
 ],
 "metadata": {
  "anaconda-cloud": {},
  "kernelspec": {
   "display_name": "Python 2",
   "language": "python",
   "name": "python2"
  },
  "language_info": {
   "codemirror_mode": {
    "name": "ipython",
    "version": 2
   },
   "file_extension": ".py",
   "mimetype": "text/x-python",
   "name": "python",
   "nbconvert_exporter": "python",
   "pygments_lexer": "ipython2",
   "version": "2.7.6"
  }
 },
 "nbformat": 4,
 "nbformat_minor": 1
}
